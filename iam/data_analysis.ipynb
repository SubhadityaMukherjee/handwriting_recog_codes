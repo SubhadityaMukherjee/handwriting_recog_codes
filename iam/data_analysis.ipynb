{
 "cells": [
  {
   "cell_type": "code",
   "execution_count": 4,
   "metadata": {},
   "outputs": [],
   "source": [
    "import pandas as pd\n",
    "import os\n",
    "from tqdm import tqdm\n",
    "import seaborn as sns"
   ]
  },
  {
   "cell_type": "code",
   "execution_count": 7,
   "metadata": {},
   "outputs": [],
   "source": [
    "def iam_data_reader(images_path, labels_path, subset=None):\n",
    "        \"\"\"\n",
    "        Reads the IAM dataset and returns images and labels\n",
    "        \"\"\"\n",
    "        images, labels = [], []\n",
    "\n",
    "        with open(labels_path, \"r\") as f:\n",
    "            full_text = f.readlines()\n",
    "            if subset:\n",
    "                full_text = full_text[:subset]\n",
    "            for line in tqdm(full_text, total=len(full_text)):\n",
    "                if \"png\" in line:\n",
    "                    fname = os.path.join(images_path, line.strip())\n",
    "                    images.append(fname)\n",
    "                elif len(line) > 1:\n",
    "                    string_encode = line.lower().strip().encode(\"ascii\", \"ignore\")\n",
    "                    string_decode = string_encode.decode()\n",
    "                    labels.append(string_decode)\n",
    "                else:\n",
    "                    continue\n",
    "        return images, labels"
   ]
  },
  {
   "cell_type": "code",
   "execution_count": 8,
   "metadata": {},
   "outputs": [
    {
     "name": "stderr",
     "output_type": "stream",
     "text": [
      "100%|██████████| 22373/22373 [00:00<00:00, 1560864.33it/s]\n"
     ]
    }
   ],
   "source": [
    "images, labels = iam_data_reader(images_path=\"../data/IAM-data/img\", labels_path=\"../data/IAM-data/iam_lines_gt.txt\", subset=None)"
   ]
  },
  {
   "cell_type": "code",
   "execution_count": 9,
   "metadata": {},
   "outputs": [
    {
     "data": {
      "text/plain": [
       "['into the pro-communist north and the',\n",
       " 'to 1958 kept the kingdom in peace, though',\n",
       " 'pro-western centre and south.',\n",
       " 'in phnom penh indicate that he still regards',\n",
       " 'at the cost of virtual partition of the country',\n",
       " 'prince souvanna phouma has not yet replied to',\n",
       " 'the mission, but recent statements made by him',\n",
       " 'laos. his policy of strict neutrality from 1951',\n",
       " 'himself as the only legal prime minister of',\n",
       " 'the administration came to power in 1957 the']"
      ]
     },
     "execution_count": 9,
     "metadata": {},
     "output_type": "execute_result"
    }
   ],
   "source": []
  }
 ],
 "metadata": {
  "interpreter": {
   "hash": "6ea5f60365346ae035c4e099d9650b496f4fc96559ddaab1067280d3bb3a4741"
  },
  "kernelspec": {
   "display_name": "Python 3.9.10 ('base')",
   "language": "python",
   "name": "python3"
  },
  "language_info": {
   "codemirror_mode": {
    "name": "ipython",
    "version": 3
   },
   "file_extension": ".py",
   "mimetype": "text/x-python",
   "name": "python",
   "nbconvert_exporter": "python",
   "pygments_lexer": "ipython3",
   "version": "3.9.10"
  },
  "orig_nbformat": 4
 },
 "nbformat": 4,
 "nbformat_minor": 2
}
